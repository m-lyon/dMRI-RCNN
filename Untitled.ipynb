{
 "cells": [
  {
   "cell_type": "code",
   "execution_count": 10,
   "metadata": {},
   "outputs": [],
   "source": [
    "import tensorflow as tf\n",
    "\n",
    "from dmri_rcnn.core.model.autoencoder import get_autoencoder"
   ]
  },
  {
   "cell_type": "code",
   "execution_count": 15,
   "metadata": {},
   "outputs": [],
   "source": [
    "auto = get_autoencoder()"
   ]
  },
  {
   "cell_type": "code",
   "execution_count": 3,
   "metadata": {},
   "outputs": [
    {
     "name": "stdout",
     "output_type": "stream",
     "text": [
      "Model: \"autoencoder\"\n",
      "__________________________________________________________________________________________________\n",
      " Layer (type)                   Output Shape         Param #     Connected to                     \n",
      "==================================================================================================\n",
      " enc_images (InputLayer)        [(None, None, 10, 1  0           []                               \n",
      "                                0, 10)]                                                           \n",
      "                                                                                                  \n",
      " enc_bvecs (InputLayer)         [(None, None, 3)]    0           []                               \n",
      "                                                                                                  \n",
      " encoder (Functional)           (None, 10, 10, 10,   3106832     ['enc_images[0][0]',             \n",
      "                                48)                               'enc_bvecs[0][0]']              \n",
      "                                                                                                  \n",
      " dec_bvecs (InputLayer)         [(None, None, 3)]    0           []                               \n",
      "                                                                                                  \n",
      " decoder (Functional)           (None, None, 10, 10  3726361     ['encoder[0][0]',                \n",
      "                                , 10)                             'dec_bvecs[0][0]']              \n",
      "                                                                                                  \n",
      "==================================================================================================\n",
      "Total params: 6,833,193\n",
      "Trainable params: 6,828,761\n",
      "Non-trainable params: 4,432\n",
      "__________________________________________________________________________________________________\n"
     ]
    }
   ],
   "source": [
    "auto.summary()"
   ]
  },
  {
   "cell_type": "code",
   "execution_count": 4,
   "metadata": {},
   "outputs": [],
   "source": [
    "weights_path = '/home/matt/Dev/git/dMRI-RCNN/dmri_rcnn/core/weights/3D_b1000_6in/weights'"
   ]
  },
  {
   "cell_type": "code",
   "execution_count": 11,
   "metadata": {},
   "outputs": [],
   "source": [
    "def get_adam_opt():\n",
    "    '''Returns Adam optimizer, initialized.'''\n",
    "\n",
    "    adam = tf.keras.optimizers.Adam(\n",
    "        learning_rate=tf.Variable(0.001),\n",
    "        beta_1=tf.Variable(0.9),\n",
    "        beta_2=tf.Variable(0.999),\n",
    "        epsilon=tf.Variable(1e-7),\n",
    "    )\n",
    "    _ = adam.iterations\n",
    "    adam.decay = tf.Variable(0.0)\n",
    "\n",
    "    return adam\n",
    "adam = get_adam_opt()"
   ]
  },
  {
   "cell_type": "code",
   "execution_count": 16,
   "metadata": {},
   "outputs": [],
   "source": [
    "auto.compile(optimizer=adam)"
   ]
  },
  {
   "cell_type": "code",
   "execution_count": 17,
   "metadata": {},
   "outputs": [],
   "source": [
    "res = auto.load_weights(weights_path)"
   ]
  },
  {
   "cell_type": "code",
   "execution_count": 7,
   "metadata": {},
   "outputs": [
    {
     "data": {
      "text/plain": [
       "['__class__',\n",
       " '__delattr__',\n",
       " '__dict__',\n",
       " '__dir__',\n",
       " '__doc__',\n",
       " '__eq__',\n",
       " '__format__',\n",
       " '__ge__',\n",
       " '__getattribute__',\n",
       " '__gt__',\n",
       " '__hash__',\n",
       " '__init__',\n",
       " '__init_subclass__',\n",
       " '__le__',\n",
       " '__lt__',\n",
       " '__module__',\n",
       " '__ne__',\n",
       " '__new__',\n",
       " '__reduce__',\n",
       " '__reduce_ex__',\n",
       " '__repr__',\n",
       " '__setattr__',\n",
       " '__sizeof__',\n",
       " '__str__',\n",
       " '__subclasshook__',\n",
       " '__weakref__',\n",
       " '_checkpoint',\n",
       " '_feed_dict',\n",
       " '_graph_view',\n",
       " '_root',\n",
       " 'assert_consumed',\n",
       " 'assert_existing_objects_matched',\n",
       " 'assert_nontrivial_match',\n",
       " 'expect_partial',\n",
       " 'initialize_or_restore',\n",
       " 'run_restore_ops']"
      ]
     },
     "execution_count": 7,
     "metadata": {},
     "output_type": "execute_result"
    }
   ],
   "source": [
    "dir(res)"
   ]
  },
  {
   "cell_type": "code",
   "execution_count": 18,
   "metadata": {},
   "outputs": [
    {
     "data": {
      "text/plain": [
       "<tensorflow.python.training.tracking.util.CheckpointLoadStatus at 0x7f92cc7b4b20>"
      ]
     },
     "execution_count": 18,
     "metadata": {},
     "output_type": "execute_result"
    }
   ],
   "source": [
    "res.assert_consumed()"
   ]
  },
  {
   "cell_type": "code",
   "execution_count": null,
   "metadata": {},
   "outputs": [],
   "source": []
  }
 ],
 "metadata": {
  "kernelspec": {
   "display_name": "Python 3",
   "language": "python",
   "name": "python3"
  },
  "language_info": {
   "codemirror_mode": {
    "name": "ipython",
    "version": 3
   },
   "file_extension": ".py",
   "mimetype": "text/x-python",
   "name": "python",
   "nbconvert_exporter": "python",
   "pygments_lexer": "ipython3",
   "version": "3.8.12"
  }
 },
 "nbformat": 4,
 "nbformat_minor": 4
}
